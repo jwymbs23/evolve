{
 "cells": [
  {
   "cell_type": "code",
   "execution_count": 1,
   "metadata": {
    "collapsed": true
   },
   "outputs": [],
   "source": [
    "%matplotlib inline"
   ]
  },
  {
   "cell_type": "code",
   "execution_count": 20,
   "metadata": {
    "collapsed": true
   },
   "outputs": [],
   "source": [
    "import sys, os\n",
    "import numpy as np\n",
    "import random\n",
    "from math import exp\n",
    "import matplotlib.pyplot as plt\n",
    "from matplotlib import animation, rc\n",
    "from IPython.display import HTML , Image\n",
    "#http://louistiao.me/posts/notebooks/embedding-matplotlib-animations-in-jupyter-notebooks/"
   ]
  },
  {
   "cell_type": "code",
   "execution_count": 21,
   "metadata": {
    "collapsed": true
   },
   "outputs": [],
   "source": [
    "def calc_total_energy(J):\n",
    "    global ising_array\n",
    "    energy = 0\n",
    "    for i in range(n):\n",
    "        for j in range(n):\n",
    "            energy += -J*ising_array[i][(j+1)%n] - J*ising_array[(i+1)%n][j] + H*ising_array[i][j]\n",
    "    return energy"
   ]
  },
  {
   "cell_type": "code",
   "execution_count": 22,
   "metadata": {
    "collapsed": true
   },
   "outputs": [],
   "source": [
    "def calc_del_e(spin, J):\n",
    "    global ising_array\n",
    "    i = spin[0]\n",
    "    j = spin[1]\n",
    "    neigh = [ising_array[(i+1)%n][j], ising_array[i][(j+1)%n], ising_array[(i-1)%n][j], ising_array[i][(j-1)%n]]\n",
    "    #when ising array is a numpy array neigh = ising_array[[(i+1)%n,i,(i-1)%n,i],[j,(j+1)%n,j,(j-1)%n]]\n",
    "    sigma_spin = ising_array[i][j]\n",
    "    old_e = -J*sum([sigma_spin*i for i in neigh]) + H*sigma_spin\n",
    "    new_e = -J*sum([-sigma_spin*i for i in neigh]) - H*sigma_spin\n",
    "    return (new_e - old_e)"
   ]
  },
  {
   "cell_type": "code",
   "execution_count": 23,
   "metadata": {
    "collapsed": true
   },
   "outputs": [],
   "source": [
    "def sweep():\n",
    "    global tot_en\n",
    "    for sw in range(n*n):\n",
    "        spin = [random.randint(0,n-1),random.randint(0,n-1)]\n",
    "        del_e = calc_del_e(spin, J)\n",
    "        if(exp(-beta*del_e) > random.random()):\n",
    "            ising_array[spin[0]][spin[1]] *= -1\n",
    "            tot_en += del_e\n",
    "    return ising_array"
   ]
  },
  {
   "cell_type": "code",
   "execution_count": 24,
   "metadata": {
    "collapsed": false
   },
   "outputs": [
    {
     "data": {
      "image/png": "[encoded data removed]",
      "text/plain": [
       "<matplotlib.figure.Figure at 0x7fb7a73875c0>"
      ]
     },
     "metadata": {},
     "output_type": "display_data"
    }
   ],
   "source": [
    "n=100\n",
    "ising_array = [[-1 if (random.random() > 0.5) else 1  for i in range(n)] for j in range(n)]\n",
    "J = 1\n",
    "H = 0.0\n",
    "beta = 1\n",
    "fig = plt.figure()\n",
    "\n",
    "tot_en = calc_total_energy(J)\n",
    "\n",
    "im = plt.imshow(sweep(), animated=True)\n",
    "\n",
    "random.seed(1002)\n",
    "sweeps = 10\n",
    "\n",
    "def animate(i):\n",
    "    im.set_array(sweep())\n",
    "    return im,\n",
    "\n",
    "#plt.cla()\n",
    "#plt.imshow(ising_array)\n",
    "#plt.show()"
   ]
  },
  {
   "cell_type": "code",
   "execution_count": 25,
   "metadata": {
    "collapsed": false
   },
   "outputs": [],
   "source": [
    "#writer = ImageMagickFileWriter()\n",
    "#rc('animation', html='html5')\n",
    "#plt.rcParams['animation.writer'] = 'imagemagick'\n",
    "anim = animation.FuncAnimation(fig, animate, interval=50, blit=True)\n",
    "#anim = animation.FuncAnimation(fig, animate, init_func=init,\n",
    "                               #frames=100, interval=20, blit=True)"
   ]
  },
  {
   "cell_type": "code",
   "execution_count": 28,
   "metadata": {
    "collapsed": true
   },
   "outputs": [],
   "source": [
    "anim.save('./animation.gif', writer='imagemagick', fps=60)"
   ]
  },
  {
   "cell_type": "code",
   "execution_count": 29,
   "metadata": {
    "collapsed": false
   },
   "outputs": [
    {
     "data": {
      "text/html": [
       "<img src=\"./animation.gif\"/>"
      ],
      "text/plain": [
       "<IPython.core.display.Image object>"
      ]
     },
     "execution_count": 29,
     "metadata": {},
     "output_type": "execute_result"
    }
   ],
   "source": [
    "Image(url='./animation.gif')"
   ]
  },
  {
   "cell_type": "code",
   "execution_count": 16,
   "metadata": {
    "collapsed": false
   },
   "outputs": [
    {
     "name": "stdout",
     "output_type": "stream",
     "text": [
      "['imagemagick', 'imagemagick_file']\n"
     ]
    },
    {
     "data": {
      "text/html": [
       "<video width=\"432\" height=\"288\" controls autoplay loop>\n",
       "  <source type=\"video/mp4\" src=\"data:video/mp4;base64,\">\n",
       "  Your browser does not support the video tag.\n",
       "</video>"
      ],
      "text/plain": [
       "<IPython.core.display.HTML object>"
      ]
     },
     "execution_count": 16,
     "metadata": {},
     "output_type": "execute_result"
    }
   ],
   "source": [
    "#print(animation.writers.list())\n",
    "#HTML(anim.to_html5_video())"
   ]
  },
  {
   "cell_type": "code",
   "execution_count": 9,
   "metadata": {
    "collapsed": false
   },
   "outputs": [],
   "source": [
    "#rc('animation', html='html5')\n",
    "#anim"
   ]
  },
  {
   "cell_type": "code",
   "execution_count": null,
   "metadata": {
    "collapsed": true
   },
   "outputs": [],
   "source": []
  }
 ],
 "metadata": {
  "kernelspec": {
   "display_name": "Python 3",
   "language": "python",
   "name": "python3"
  },
  "language_info": {
   "codemirror_mode": {
    "name": "ipython",
    "version": 3
   },
   "file_extension": ".py",
   "mimetype": "text/x-python",
   "name": "python",
   "nbconvert_exporter": "python",
   "pygments_lexer": "ipython3",
   "version": "3.6.0"
  }
 },
 "nbformat": 4,
 "nbformat_minor": 2
}
